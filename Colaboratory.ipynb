{
  "nbformat": 4,
  "nbformat_minor": 0,
  "metadata": {
    "colab": {
      "provenance": [],
      "authorship_tag": "ABX9TyMcMerkaxSClOk5686OtNZh",
      "include_colab_link": true
    },
    "kernelspec": {
      "name": "python3",
      "display_name": "Python 3"
    },
    "language_info": {
      "name": "python"
    }
  },
  "cells": [
    {
      "cell_type": "markdown",
      "metadata": {
        "id": "view-in-github",
        "colab_type": "text"
      },
      "source": [
        "<a href=\"https://colab.research.google.com/github/YelyzavetaKyrychuk/GS2DIT/blob/main/Colaboratory.ipynb\" target=\"_parent\"><img src=\"https://colab.research.google.com/assets/colab-badge.svg\" alt=\"Open In Colab\"/></a>"
      ]
    },
    {
      "cell_type": "markdown",
      "source": [
        "#Code section"
      ],
      "metadata": {
        "id": "6Y2OyD2vStWs"
      }
    },
    {
      "cell_type": "code",
      "source": [
        "a=1"
      ],
      "metadata": {
        "id": "3rz3bi_hS1uq"
      },
      "execution_count": 10,
      "outputs": []
    },
    {
      "cell_type": "code",
      "source": [
        "b=2"
      ],
      "metadata": {
        "id": "RqOvzz9cTDob"
      },
      "execution_count": 11,
      "outputs": []
    },
    {
      "cell_type": "code",
      "source": [
        "a+b"
      ],
      "metadata": {
        "colab": {
          "base_uri": "https://localhost:8080/"
        },
        "id": "Y4Qebq0ZTFYb",
        "outputId": "3f5da2b4-286e-4ce0-b890-1ae4ff0a5956"
      },
      "execution_count": 12,
      "outputs": [
        {
          "output_type": "execute_result",
          "data": {
            "text/plain": [
              "3"
            ]
          },
          "metadata": {},
          "execution_count": 12
        }
      ]
    },
    {
      "cell_type": "markdown",
      "source": [
        "#Text section"
      ],
      "metadata": {
        "id": "Jx2k_Z1mTOCq"
      }
    },
    {
      "cell_type": "markdown",
      "source": [
        "**print(\"Hello World\")**"
      ],
      "metadata": {
        "id": "epwqn6-eUAta"
      }
    },
    {
      "cell_type": "markdown",
      "source": [
        "*print(\"Hello World\")*"
      ],
      "metadata": {
        "id": "Mn7zHc3RUKiq"
      }
    },
    {
      "cell_type": "markdown",
      "source": [
        "```python\n",
        "print(\"Hello World\")\n",
        "```\n"
      ],
      "metadata": {
        "id": "3T1e82NQURnS"
      }
    }
  ]
}